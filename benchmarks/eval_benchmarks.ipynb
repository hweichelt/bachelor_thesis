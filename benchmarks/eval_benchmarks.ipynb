{
 "cells": [
  {
   "cell_type": "code",
   "execution_count": 1,
   "metadata": {
    "collapsed": true
   },
   "outputs": [],
   "source": [
    "from pathlib import Path\n",
    "\n",
    "import pandas as pd\n",
    "import os"
   ]
  },
  {
   "cell_type": "code",
   "execution_count": 2,
   "outputs": [
    {
     "data": {
      "text/plain": "                            algorithm  algorithm single muc  \\\n0      [Multi-MUC]_Iterative_Deletion                 False   \n0   [Single-MUC]_Brute_Force_Improved                  True   \n0      [Multi-MUC]_Iterative_Deletion                 False   \n0    [Multi-MUC]_Brute_Force_Improved                 False   \n0             [Multi-MUC]_Brute_Force                 False   \n..                                ...                   ...   \n0            [Single-MUC]_Brute_Force                  True   \n0      [Multi-MUC]_Iterative_Deletion                 False   \n0   [Single-MUC]_Brute_Force_Improved                  True   \n0    [Multi-MUC]_Brute_Force_Improved                 False   \n0             [Multi-MUC]_Brute_Force                 False   \n\n    benchmark assumptions  benchmark mucs  number of mucs found  \\\n0                      10              10                    10   \n0                    1000              50                     0   \n0                      50              10                    10   \n0                   10000             100                     0   \n0                    1000              50                     0   \n..                    ...             ...                   ...   \n0                      10              10                     1   \n0                   10000              10                     2   \n0                    1000             100                     0   \n0                    1000              50                     0   \n0                      10              10                    10   \n\n    computation time  timeout occurred  everything found  \n0           0.006176             False              True  \n0         300.002708              True             False  \n0         300.001552              True              True  \n0         300.030441              True             False  \n0         300.002676              True             False  \n..               ...               ...               ...  \n0           0.001396             False             False  \n0         300.025253              True             False  \n0          69.999184             False             False  \n0         300.002763              True             False  \n0           0.022774             False              True  \n\n[90 rows x 8 columns]",
      "text/html": "<div>\n<style scoped>\n    .dataframe tbody tr th:only-of-type {\n        vertical-align: middle;\n    }\n\n    .dataframe tbody tr th {\n        vertical-align: top;\n    }\n\n    .dataframe thead th {\n        text-align: right;\n    }\n</style>\n<table border=\"1\" class=\"dataframe\">\n  <thead>\n    <tr style=\"text-align: right;\">\n      <th></th>\n      <th>algorithm</th>\n      <th>algorithm single muc</th>\n      <th>benchmark assumptions</th>\n      <th>benchmark mucs</th>\n      <th>number of mucs found</th>\n      <th>computation time</th>\n      <th>timeout occurred</th>\n      <th>everything found</th>\n    </tr>\n  </thead>\n  <tbody>\n    <tr>\n      <th>0</th>\n      <td>[Multi-MUC]_Iterative_Deletion</td>\n      <td>False</td>\n      <td>10</td>\n      <td>10</td>\n      <td>10</td>\n      <td>0.006176</td>\n      <td>False</td>\n      <td>True</td>\n    </tr>\n    <tr>\n      <th>0</th>\n      <td>[Single-MUC]_Brute_Force_Improved</td>\n      <td>True</td>\n      <td>1000</td>\n      <td>50</td>\n      <td>0</td>\n      <td>300.002708</td>\n      <td>True</td>\n      <td>False</td>\n    </tr>\n    <tr>\n      <th>0</th>\n      <td>[Multi-MUC]_Iterative_Deletion</td>\n      <td>False</td>\n      <td>50</td>\n      <td>10</td>\n      <td>10</td>\n      <td>300.001552</td>\n      <td>True</td>\n      <td>True</td>\n    </tr>\n    <tr>\n      <th>0</th>\n      <td>[Multi-MUC]_Brute_Force_Improved</td>\n      <td>False</td>\n      <td>10000</td>\n      <td>100</td>\n      <td>0</td>\n      <td>300.030441</td>\n      <td>True</td>\n      <td>False</td>\n    </tr>\n    <tr>\n      <th>0</th>\n      <td>[Multi-MUC]_Brute_Force</td>\n      <td>False</td>\n      <td>1000</td>\n      <td>50</td>\n      <td>0</td>\n      <td>300.002676</td>\n      <td>True</td>\n      <td>False</td>\n    </tr>\n    <tr>\n      <th>...</th>\n      <td>...</td>\n      <td>...</td>\n      <td>...</td>\n      <td>...</td>\n      <td>...</td>\n      <td>...</td>\n      <td>...</td>\n      <td>...</td>\n    </tr>\n    <tr>\n      <th>0</th>\n      <td>[Single-MUC]_Brute_Force</td>\n      <td>True</td>\n      <td>10</td>\n      <td>10</td>\n      <td>1</td>\n      <td>0.001396</td>\n      <td>False</td>\n      <td>False</td>\n    </tr>\n    <tr>\n      <th>0</th>\n      <td>[Multi-MUC]_Iterative_Deletion</td>\n      <td>False</td>\n      <td>10000</td>\n      <td>10</td>\n      <td>2</td>\n      <td>300.025253</td>\n      <td>True</td>\n      <td>False</td>\n    </tr>\n    <tr>\n      <th>0</th>\n      <td>[Single-MUC]_Brute_Force_Improved</td>\n      <td>True</td>\n      <td>1000</td>\n      <td>100</td>\n      <td>0</td>\n      <td>69.999184</td>\n      <td>False</td>\n      <td>False</td>\n    </tr>\n    <tr>\n      <th>0</th>\n      <td>[Multi-MUC]_Brute_Force_Improved</td>\n      <td>False</td>\n      <td>1000</td>\n      <td>50</td>\n      <td>0</td>\n      <td>300.002763</td>\n      <td>True</td>\n      <td>False</td>\n    </tr>\n    <tr>\n      <th>0</th>\n      <td>[Multi-MUC]_Brute_Force</td>\n      <td>False</td>\n      <td>10</td>\n      <td>10</td>\n      <td>10</td>\n      <td>0.022774</td>\n      <td>False</td>\n      <td>True</td>\n    </tr>\n  </tbody>\n</table>\n<p>90 rows × 8 columns</p>\n</div>"
     },
     "execution_count": 2,
     "metadata": {},
     "output_type": "execute_result"
    }
   ],
   "source": [
    "stats_path = Path(\"statistics\")\n",
    "\n",
    "df = pd.DataFrame()\n",
    "for file in os.listdir(stats_path):\n",
    "    if file.endswith(\".csv\"):\n",
    "        file_df = pd.read_csv(stats_path.joinpath(file))\n",
    "        df = pd.concat([df, file_df])\n",
    "df"
   ],
   "metadata": {
    "collapsed": false
   }
  },
  {
   "cell_type": "code",
   "execution_count": null,
   "outputs": [],
   "source": [],
   "metadata": {
    "collapsed": false
   }
  }
 ],
 "metadata": {
  "kernelspec": {
   "display_name": "Python 3",
   "language": "python",
   "name": "python3"
  },
  "language_info": {
   "codemirror_mode": {
    "name": "ipython",
    "version": 2
   },
   "file_extension": ".py",
   "mimetype": "text/x-python",
   "name": "python",
   "nbconvert_exporter": "python",
   "pygments_lexer": "ipython2",
   "version": "2.7.6"
  }
 },
 "nbformat": 4,
 "nbformat_minor": 0
}
