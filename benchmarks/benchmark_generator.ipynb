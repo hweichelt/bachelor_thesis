{
 "cells": [
  {
   "cell_type": "code",
   "execution_count": 1,
   "metadata": {
    "collapsed": true
   },
   "outputs": [],
   "source": [
    "import numpy as np\n",
    "import os\n",
    "\n",
    "from PIL import Image\n",
    "\n",
    "ASSUMTION_SIGNATURE = \"a\"\n",
    "CUSTOM_UNSAT_HEAD = \"\""
   ]
  },
  {
   "cell_type": "code",
   "execution_count": 63,
   "outputs": [],
   "source": [
    "n_assumptions = 10\n",
    "n_mucs = 10\n",
    "\n",
    "density = 0.05\n",
    "verbose = 0\n",
    "\n",
    "mucs = []\n",
    "\n",
    "while True:\n",
    "    assignment = np.random.binomial(n=1, p=density, size=n_assumptions)\n",
    "    candidate = {i + 1 for i, x in enumerate(assignment) if x == 1}\n",
    "    if verbose:\n",
    "        print(assignment, candidate)\n",
    "\n",
    "    if any([candidate.issubset(muc) or muc.issubset(candidate) for muc in mucs]):\n",
    "        if verbose:\n",
    "            print(\"DENIED\")\n",
    "    else:\n",
    "        if verbose:\n",
    "            print(\"APPROVED\")\n",
    "        mucs.append(candidate)\n",
    "        if len(mucs) >= n_mucs:\n",
    "            break"
   ],
   "metadata": {
    "collapsed": false
   }
  },
  {
   "cell_type": "code",
   "execution_count": 64,
   "outputs": [
    {
     "name": "stdout",
     "output_type": "stream",
     "text": [
      "10\n",
      "{7}\n",
      "{6}\n",
      "{10}\n",
      "{2}\n",
      "{4}\n",
      "{9}\n",
      "{5}\n",
      "{1}\n",
      "{3}\n",
      "{8}\n"
     ]
    }
   ],
   "source": [
    "print(len(mucs))\n",
    "for muc in mucs:\n",
    "    print(muc)\n",
    "\n",
    "assumption_dir = f\"{n_assumptions}_assumptions\"\n",
    "muc_dir = f\"{assumption_dir}/{n_mucs}_mucs\"\n",
    "dirname = muc_dir\n",
    "\n",
    "if not os.path.isdir(assumption_dir):\n",
    "    os.mkdir(assumption_dir)\n",
    "if not os.path.isdir(muc_dir):\n",
    "    os.mkdir(muc_dir)\n",
    "\n",
    "\n",
    "img_width = 1280\n",
    "img_height = int((n_mucs / n_assumptions) * img_width)\n",
    "img = np.zeros(shape=(n_mucs, n_assumptions), dtype=np.uint8) + 255\n",
    "for m, muc in enumerate(mucs):\n",
    "    for a in muc:\n",
    "        img[m, a - 1] = 0\n",
    "Image.fromarray(img).resize((img_width, img_height), resample=Image.BOX).save(f\"{dirname}/visualization.jpeg\")\n",
    "\n",
    "with open(f\"{dirname}/encoding.lp\", \"w\") as f:\n",
    "    f.write(\"% ---[ AUTO GENERATED MUC BENCHMARK ]\\n\")\n",
    "    f.write(f\"% ---[ assumptions : {n_assumptions} ]\\n\")\n",
    "    f.write(f\"% ---[ mucs : {n_mucs} ]\\n\\n\")\n",
    "\n",
    "    f.write(f\"num(1..{n_assumptions}).\\n\")\n",
    "    f.write(\"{\" + ASSUMTION_SIGNATURE + \"(X): num(X)}.\\n\\n\")\n",
    "\n",
    "    for muc in mucs:\n",
    "        f.write(\"{CUSTOM_UNSAT_HEAD}:- \" + \", \".join([f\"{ASSUMTION_SIGNATURE}({a})\" for a in muc]) + \".\\n\")\n",
    "\n",
    "with open(f\"{dirname}/assumptions.lp\", \"w\") as f:\n",
    "    for a in range(n_assumptions):\n",
    "        f.write(f\"assume({ASSUMTION_SIGNATURE}({a + 1})).\\n\")\n",
    "\n",
    "with open(f\"{dirname}/results.txt\", \"w\") as f:\n",
    "    results = dict()\n",
    "    results[\"minimal\"] = [list([f\"{ASSUMTION_SIGNATURE}({a})\" for a in muc]) for muc in mucs]\n",
    "\n",
    "    minimum = [muc for muc in mucs if len(muc) == len(min(mucs))]\n",
    "    results[\"minimum\"] = [list([f\"{ASSUMTION_SIGNATURE}({a})\" for a in muc]) for muc in minimum]\n",
    "\n",
    "    f.write(str(results))\n",
    "\n",
    "with open(f\"{assumption_dir}/README.md\", \"w\") as f:\n",
    "    f.write(f\"# Random MUC Benchmarks [{n_assumptions} Assumptions]\\n\\n\")\n",
    "    for s, subdir in enumerate(os.walk(assumption_dir)):\n",
    "        if subdir[0] != assumption_dir:\n",
    "            subdir_mucs = int(subdir[0].split(\"/\")[-1].replace(\"_mucs\", \"\"))\n",
    "            f.write(f\"## {s} : {subdir_mucs} MUCs\\n\\n\")\n",
    "            f.write(f\"![]({subdir[0].split('/')[-1]}/visualization.jpeg)\\n\\n\")"
   ],
   "metadata": {
    "collapsed": false
   }
  },
  {
   "cell_type": "code",
   "execution_count": 27,
   "outputs": [],
   "source": [],
   "metadata": {
    "collapsed": false
   }
  },
  {
   "cell_type": "code",
   "execution_count": null,
   "outputs": [],
   "source": [],
   "metadata": {
    "collapsed": false
   }
  }
 ],
 "metadata": {
  "kernelspec": {
   "display_name": "Python 3",
   "language": "python",
   "name": "python3"
  },
  "language_info": {
   "codemirror_mode": {
    "name": "ipython",
    "version": 2
   },
   "file_extension": ".py",
   "mimetype": "text/x-python",
   "name": "python",
   "nbconvert_exporter": "python",
   "pygments_lexer": "ipython2",
   "version": "2.7.6"
  }
 },
 "nbformat": 4,
 "nbformat_minor": 0
}
