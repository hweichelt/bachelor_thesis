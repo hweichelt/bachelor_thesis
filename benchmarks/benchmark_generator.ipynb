{
 "cells": [
  {
   "cell_type": "code",
   "execution_count": 181,
   "metadata": {
    "collapsed": true
   },
   "outputs": [],
   "source": [
    "import numpy as np\n",
    "import os\n",
    "\n",
    "from PIL import Image\n",
    "\n",
    "PATH = \"../benchmarks_2/id_muc_scaling_big\"\n",
    "ASSUMPTION_SIGNATURE = \"a\"\n",
    "CUSTOM_UNSAT_HEAD = \"\""
   ]
  },
  {
   "cell_type": "code",
   "execution_count": 205,
   "outputs": [],
   "source": [
    "n_assumptions = 10000\n",
    "n_mucs = 10\n",
    "\n",
    "density = (0.5 / (n_assumptions / 100))\n",
    "verbose = 0\n",
    "\n",
    "mucs = []\n",
    "\n",
    "while True:\n",
    "    assignment = np.random.binomial(n=1, p=density, size=n_assumptions)\n",
    "    candidate = {i + 1 for i, x in enumerate(assignment) if x == 1}\n",
    "    if sum(assignment) != 50:\n",
    "        continue\n",
    "\n",
    "    if verbose:\n",
    "        print(assignment, candidate)\n",
    "\n",
    "    if any([candidate.issubset(muc) or muc.issubset(candidate) for muc in mucs]):\n",
    "        if verbose:\n",
    "            print(\"DENIED\")\n",
    "    else:\n",
    "        if verbose:\n",
    "            print(\"APPROVED\")\n",
    "        mucs.append(candidate)\n",
    "        if len(mucs) >= n_mucs:\n",
    "            break"
   ],
   "metadata": {
    "collapsed": false
   }
  },
  {
   "cell_type": "code",
   "execution_count": 206,
   "outputs": [
    {
     "name": "stdout",
     "output_type": "stream",
     "text": [
      "10\n",
      "{3077, 3078, 1160, 1528, 8456, 8584, 5516, 9096, 401, 5265, 789, 9851, 2590, 544, 3745, 8098, 6822, 7079, 6056, 4396, 5296, 820, 8251, 6077, 7613, 9540, 8006, 6985, 5455, 2384, 2640, 6737, 2131, 2644, 7129, 2526, 8440, 8418, 9699, 743, 4586, 9450, 5868, 7927, 4344, 4601, 6266, 6011, 2045, 126}\n",
      "{7555, 4484, 3589, 4740, 2317, 7443, 9620, 9877, 2455, 5274, 3099, 8090, 2721, 4260, 809, 1713, 5041, 2484, 9013, 3766, 6458, 4284, 1090, 3138, 9928, 4809, 9803, 7373, 5454, 2127, 6863, 594, 6226, 7763, 6871, 3677, 3165, 733, 6885, 5350, 1127, 1767, 8681, 9573, 5743, 8047, 9713, 373, 9846, 1660}\n",
      "{2689, 6273, 1027, 1293, 8333, 6672, 2068, 9112, 3360, 1697, 7586, 1958, 9895, 2996, 6709, 9268, 1596, 61, 1469, 1471, 6214, 6726, 330, 5323, 8012, 594, 2132, 6356, 3670, 4439, 4056, 4441, 6104, 6105, 92, 6741, 9688, 8287, 4576, 353, 4962, 7784, 1009, 9202, 3317, 3447, 7161, 6011, 9980, 6996}\n",
      "{6407, 3721, 1930, 2955, 3981, 6030, 911, 7058, 787, 536, 5402, 415, 9637, 1451, 9388, 6831, 9010, 8886, 3895, 571, 700, 4414, 9663, 9299, 9157, 582, 715, 844, 1106, 2131, 7891, 2005, 86, 3925, 8278, 8535, 1114, 8154, 8662, 3421, 3166, 8929, 3428, 2921, 3179, 9330, 2166, 3961, 4987, 8319}\n",
      "{2818, 6149, 1287, 4103, 8969, 3467, 1294, 3220, 3863, 9751, 1177, 2073, 1308, 2461, 6301, 6558, 2976, 6304, 8994, 8484, 5285, 9645, 7218, 5814, 3769, 9149, 1729, 8257, 836, 200, 3020, 2255, 2003, 6612, 8275, 1366, 5078, 8533, 9814, 4315, 6759, 6761, 6123, 3820, 6766, 5104, 113, 1905, 6128, 7805}\n",
      "{7808, 8448, 8449, 1797, 5765, 1417, 8714, 2700, 9487, 8720, 1173, 411, 1183, 8227, 1701, 6826, 1839, 4915, 696, 4922, 8250, 61, 7102, 3263, 3647, 6335, 7746, 9278, 7751, 6731, 76, 5837, 1615, 8656, 4181, 5720, 4953, 9305, 4444, 7905, 482, 8677, 9062, 1127, 5993, 884, 3703, 5114, 4859, 5631}\n",
      "{644, 3461, 9989, 2311, 6292, 4758, 3223, 4888, 3867, 3358, 1054, 4000, 6564, 7462, 2858, 174, 2223, 4657, 8881, 3380, 53, 3764, 2751, 192, 3393, 8768, 2627, 1095, 4680, 8526, 4815, 8018, 4819, 5972, 2393, 7901, 353, 2018, 7906, 8676, 7013, 8933, 9707, 8685, 4846, 7536, 7926, 2169, 1018, 1020}\n",
      "{3584, 6789, 8969, 911, 3857, 5527, 6680, 2457, 4507, 1436, 412, 2590, 671, 2464, 6172, 9755, 8494, 2095, 5427, 9910, 57, 7868, 6205, 6078, 192, 9799, 5322, 5963, 4432, 2769, 6738, 2006, 8534, 8439, 9310, 5858, 8425, 6122, 7402, 7276, 7150, 7534, 627, 116, 1140, 1014, 3446, 6259, 7925, 3326}\n",
      "{5632, 3715, 7427, 8580, 7558, 6279, 3464, 6792, 6029, 8717, 5907, 6552, 2842, 4891, 156, 8606, 1442, 6308, 1702, 9008, 3766, 2999, 3000, 6198, 8374, 828, 8124, 6847, 7232, 1988, 8260, 4680, 587, 7374, 2769, 4950, 6240, 229, 7655, 4587, 9326, 1263, 2675, 8053, 3958, 7031, 8312, 6139, 6653, 6527}\n",
      "{6017, 2819, 5383, 7560, 2313, 7306, 6667, 8076, 8459, 8842, 6031, 1040, 276, 5013, 8343, 1304, 3611, 4128, 802, 4011, 6141, 4790, 8246, 827, 8644, 965, 1479, 1224, 1863, 975, 7503, 5844, 8150, 7128, 7641, 5214, 5726, 7903, 7138, 7266, 4327, 3049, 5225, 4979, 9972, 2166, 7033, 7418, 4476, 3325}\n"
     ]
    }
   ],
   "source": [
    "print(len(mucs))\n",
    "for muc in mucs:\n",
    "    print(muc)\n",
    "\n",
    "assumption_dir = f\"{n_assumptions}_assumptions\"\n",
    "if PATH:\n",
    "    assumption_dir = f\"{PATH}/{assumption_dir}\"\n",
    "muc_dir = f\"{assumption_dir}/{n_mucs}_mucs\"\n",
    "dirname = muc_dir\n",
    "\n",
    "if not os.path.isdir(assumption_dir):\n",
    "    os.mkdir(assumption_dir)\n",
    "if not os.path.isdir(muc_dir):\n",
    "    os.mkdir(muc_dir)\n",
    "\n",
    "\n",
    "img_width = 1280\n",
    "img_height = int((n_mucs / n_assumptions) * img_width)\n",
    "img = np.zeros(shape=(n_mucs, n_assumptions), dtype=np.uint8) + 255\n",
    "for m, muc in enumerate(mucs):\n",
    "    for a in muc:\n",
    "        img[m, a - 1] = 0\n",
    "Image.fromarray(img).resize((img_width, img_height), resample=Image.BOX).save(f\"{dirname}/visualization.jpeg\")\n",
    "\n",
    "with open(f\"{dirname}/encoding.lp\", \"w\") as f:\n",
    "    f.write(\"% ---[ AUTO GENERATED MUC BENCHMARK ]\\n\")\n",
    "    f.write(f\"% ---[ assumptions : {n_assumptions} ]\\n\")\n",
    "    f.write(f\"% ---[ mucs : {n_mucs} ]\\n\\n\")\n",
    "\n",
    "    f.write(f\"num(1..{n_assumptions}).\\n\")\n",
    "    f.write(\"{\" + ASSUMPTION_SIGNATURE + \"(X): num(X)}.\\n\\n\")\n",
    "\n",
    "    for muc in mucs:\n",
    "        f.write(f\"{CUSTOM_UNSAT_HEAD}:- \" + \", \".join([f\"{ASSUMPTION_SIGNATURE}({a})\" for a in muc]) + \".\\n\")\n",
    "\n",
    "with open(f\"{dirname}/assumptions.lp\", \"w\") as f:\n",
    "    for a in range(n_assumptions):\n",
    "        f.write(f\"assume({ASSUMPTION_SIGNATURE}({a + 1})).\\n\")\n",
    "\n",
    "with open(f\"{dirname}/results.txt\", \"w\") as f:\n",
    "    results = dict()\n",
    "    results[\"minimal\"] = [list([f\"{ASSUMPTION_SIGNATURE}({a})\" for a in muc]) for muc in mucs]\n",
    "\n",
    "    minimum = [muc for muc in mucs if len(muc) == len(min(mucs, key=lambda x: len(x)))]\n",
    "    results[\"minimum\"] = [list([f\"{ASSUMPTION_SIGNATURE}({a})\" for a in muc]) for muc in minimum]\n",
    "\n",
    "    f.write(str(results).replace(\"'\", '\"'))\n",
    "\n",
    "with open(f\"{assumption_dir}/README.md\", \"w\") as f:\n",
    "    f.write(f\"# Random MUC Benchmarks [{n_assumptions} Assumptions]\\n\\n\")\n",
    "    for s, subdir in enumerate(os.walk(assumption_dir)):\n",
    "        if subdir[0] != assumption_dir:\n",
    "            subdir_mucs = int(subdir[0].split(\"/\")[-1].replace(\"_mucs\", \"\"))\n",
    "            f.write(f\"## {s} : {subdir_mucs} MUCs\\n\\n\")\n",
    "            f.write(f\"![]({subdir[0].split('/')[-1]}/visualization.jpeg)\\n\\n\")"
   ],
   "metadata": {
    "collapsed": false
   }
  },
  {
   "cell_type": "code",
   "execution_count": 27,
   "outputs": [],
   "source": [],
   "metadata": {
    "collapsed": false
   }
  },
  {
   "cell_type": "code",
   "execution_count": null,
   "outputs": [],
   "source": [],
   "metadata": {
    "collapsed": false
   }
  }
 ],
 "metadata": {
  "kernelspec": {
   "display_name": "Python 3",
   "language": "python",
   "name": "python3"
  },
  "language_info": {
   "codemirror_mode": {
    "name": "ipython",
    "version": 2
   },
   "file_extension": ".py",
   "mimetype": "text/x-python",
   "name": "python",
   "nbconvert_exporter": "python",
   "pygments_lexer": "ipython2",
   "version": "2.7.6"
  }
 },
 "nbformat": 4,
 "nbformat_minor": 0
}
