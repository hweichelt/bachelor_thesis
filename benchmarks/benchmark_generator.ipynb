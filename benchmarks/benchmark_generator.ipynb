{
 "cells": [
  {
   "cell_type": "code",
   "execution_count": 1,
   "metadata": {
    "collapsed": true
   },
   "outputs": [],
   "source": [
    "import numpy as np\n",
    "import os\n",
    "\n",
    "from PIL import Image\n",
    "\n",
    "PATH = \"../benchmarks_2/id_assumption_scaling\"\n",
    "ASSUMPTION_SIGNATURE = \"a\"\n",
    "CUSTOM_UNSAT_HEAD = \"\""
   ]
  },
  {
   "cell_type": "code",
   "execution_count": 20,
   "outputs": [],
   "source": [
    "n_assumptions = 10000\n",
    "n_mucs = 10\n",
    "\n",
    "density = (0.5 / (n_assumptions / 100))\n",
    "verbose = 0\n",
    "\n",
    "mucs = []\n",
    "\n",
    "while True:\n",
    "    assignment = np.random.binomial(n=1, p=density, size=n_assumptions)\n",
    "    candidate = {i + 1 for i, x in enumerate(assignment) if x == 1}\n",
    "    if sum(assignment) != 50:\n",
    "        continue\n",
    "\n",
    "    if verbose:\n",
    "        print(assignment, candidate)\n",
    "\n",
    "    if any([candidate.issubset(muc) or muc.issubset(candidate) for muc in mucs]):\n",
    "        if verbose:\n",
    "            print(\"DENIED\")\n",
    "    else:\n",
    "        if verbose:\n",
    "            print(\"APPROVED\")\n",
    "        mucs.append(candidate)\n",
    "        if len(mucs) >= n_mucs:\n",
    "            break"
   ],
   "metadata": {
    "collapsed": false
   }
  },
  {
   "cell_type": "code",
   "execution_count": 21,
   "outputs": [
    {
     "name": "stdout",
     "output_type": "stream",
     "text": [
      "10\n",
      "{904, 2571, 3980, 6284, 8207, 5392, 4497, 7312, 8338, 8465, 152, 7837, 6432, 1698, 9763, 6309, 7719, 7208, 4649, 1962, 9132, 7728, 5810, 7225, 5051, 1084, 2750, 7742, 3905, 322, 6210, 1223, 2375, 5705, 6734, 1615, 9426, 3674, 6490, 1117, 4832, 3042, 7651, 8168, 745, 7787, 750, 4976, 7024, 6780}\n",
      "{3587, 7556, 9349, 7814, 5128, 4620, 15, 9361, 274, 1557, 7958, 922, 5787, 1948, 7579, 798, 8350, 8481, 8870, 5801, 7210, 5292, 6704, 3638, 4154, 6079, 9408, 705, 4293, 6988, 9678, 7762, 2134, 9177, 351, 9567, 2273, 7265, 748, 3437, 6509, 6639, 2288, 3696, 8050, 9970, 1013, 7417, 4346, 9599}\n",
      "{7424, 3202, 4098, 3717, 8584, 3721, 5004, 7181, 3598, 5390, 9232, 6676, 3477, 7710, 3491, 2725, 1062, 5547, 684, 1836, 3373, 7854, 7097, 2749, 2877, 7997, 5952, 9021, 6342, 7241, 8523, 1234, 8148, 8666, 733, 2784, 8032, 4324, 2533, 2663, 1384, 5737, 8552, 4715, 8810, 4206, 626, 1650, 8434, 4856}\n",
      "{1543, 4487, 1676, 6545, 8724, 407, 6299, 7451, 9115, 545, 1827, 7723, 6195, 7102, 3775, 1984, 5568, 836, 9286, 72, 8267, 1358, 4815, 8783, 7380, 4310, 7894, 4184, 4185, 5720, 5721, 3932, 6108, 2399, 8567, 4066, 1380, 4837, 3943, 9321, 6635, 5484, 4717, 4082, 6132, 885, 1782, 1909, 4984, 5119}\n",
      "{2176, 6529, 6785, 644, 9732, 9478, 7439, 2066, 8083, 6806, 2469, 2730, 2349, 174, 5679, 688, 6320, 7858, 5556, 6712, 3643, 5179, 8510, 1983, 5954, 5319, 3149, 8143, 8656, 2898, 8405, 9047, 2137, 858, 5979, 6362, 8153, 8798, 479, 7647, 1505, 6754, 7267, 104, 5481, 2286, 3439, 112, 2545, 373}\n",
      "{3968, 898, 2308, 7556, 9860, 1543, 1674, 2954, 1934, 8852, 6294, 8729, 1824, 9763, 804, 7589, 1702, 9638, 7083, 3501, 6446, 432, 6070, 2616, 828, 3133, 7870, 9150, 2636, 7890, 89, 1371, 7132, 3549, 9947, 4834, 2659, 5475, 9827, 3945, 3178, 5483, 9577, 1905, 8317, 1272, 1657, 3962, 5113, 1790}\n",
      "{1281, 1538, 1028, 4356, 135, 1159, 6023, 5770, 3083, 2828, 6664, 3472, 2962, 1811, 7957, 2586, 795, 3098, 6303, 7839, 930, 6434, 2730, 4907, 9005, 304, 817, 4661, 5175, 2107, 831, 2374, 3782, 9927, 4681, 5577, 9291, 3917, 9293, 9041, 5589, 3036, 9950, 6111, 5987, 8934, 6509, 1271, 7421, 7934}\n",
      "{2688, 2946, 9733, 4870, 3848, 6796, 5008, 1681, 7313, 8467, 404, 21, 8593, 4382, 287, 8352, 6819, 1060, 8741, 806, 8871, 3368, 5674, 5547, 4398, 438, 2230, 2621, 2366, 1853, 7743, 6721, 1098, 2890, 3402, 209, 853, 8151, 5081, 8681, 1259, 2796, 877, 3948, 4972, 5487, 6517, 7157, 1143, 510}\n",
      "{3584, 1537, 3842, 4737, 4230, 5510, 3594, 2955, 2444, 1933, 3726, 3727, 9615, 9998, 2968, 665, 1818, 6041, 6553, 6554, 2722, 38, 2982, 4395, 2988, 3636, 5172, 1462, 4278, 9524, 9019, 6720, 4289, 2117, 9035, 8269, 1872, 3028, 9813, 5209, 4316, 3168, 357, 4199, 4969, 5100, 4206, 1138, 3835, 636}\n",
      "{1, 774, 1159, 5126, 4106, 8842, 12, 5645, 272, 7952, 3218, 4243, 9490, 8600, 5914, 9243, 2979, 4772, 4262, 9256, 6064, 7736, 7737, 3642, 6847, 4672, 3013, 8903, 7497, 6346, 8013, 338, 2645, 9304, 4186, 2267, 5469, 8418, 485, 2021, 361, 873, 4970, 624, 9714, 1140, 2678, 4086, 8058, 7676}\n"
     ]
    }
   ],
   "source": [
    "print(len(mucs))\n",
    "for muc in mucs:\n",
    "    print(muc)\n",
    "\n",
    "assumption_dir = f\"{n_assumptions}_assumptions\"\n",
    "if PATH:\n",
    "    assumption_dir = f\"{PATH}/{assumption_dir}\"\n",
    "muc_dir = f\"{assumption_dir}/{n_mucs}_mucs\"\n",
    "dirname = muc_dir\n",
    "\n",
    "if not os.path.isdir(assumption_dir):\n",
    "    os.mkdir(assumption_dir)\n",
    "if not os.path.isdir(muc_dir):\n",
    "    os.mkdir(muc_dir)\n",
    "\n",
    "\n",
    "img_width = 1280\n",
    "img_height = int((n_mucs / n_assumptions) * img_width)\n",
    "img = np.zeros(shape=(n_mucs, n_assumptions), dtype=np.uint8) + 255\n",
    "for m, muc in enumerate(mucs):\n",
    "    for a in muc:\n",
    "        img[m, a - 1] = 0\n",
    "Image.fromarray(img).resize((img_width, img_height), resample=Image.BOX).save(f\"{dirname}/visualization.jpeg\")\n",
    "\n",
    "with open(f\"{dirname}/encoding.lp\", \"w\") as f:\n",
    "    f.write(\"% ---[ AUTO GENERATED MUC BENCHMARK ]\\n\")\n",
    "    f.write(f\"% ---[ assumptions : {n_assumptions} ]\\n\")\n",
    "    f.write(f\"% ---[ mucs : {n_mucs} ]\\n\\n\")\n",
    "\n",
    "    f.write(f\"num(1..{n_assumptions}).\\n\")\n",
    "    f.write(\"{\" + ASSUMPTION_SIGNATURE + \"(X): num(X)}.\\n\\n\")\n",
    "\n",
    "    for muc in mucs:\n",
    "        f.write(f\"{CUSTOM_UNSAT_HEAD}:- \" + \", \".join([f\"{ASSUMPTION_SIGNATURE}({a})\" for a in muc]) + \".\\n\")\n",
    "\n",
    "with open(f\"{dirname}/assumptions.lp\", \"w\") as f:\n",
    "    for a in range(n_assumptions):\n",
    "        f.write(f\"assume({ASSUMPTION_SIGNATURE}({a + 1})).\\n\")\n",
    "\n",
    "with open(f\"{dirname}/results.txt\", \"w\") as f:\n",
    "    results = dict()\n",
    "    results[\"minimal\"] = [list([f\"{ASSUMPTION_SIGNATURE}({a})\" for a in muc]) for muc in mucs]\n",
    "\n",
    "    minimum = [muc for muc in mucs if len(muc) == len(min(mucs, key=lambda x: len(x)))]\n",
    "    results[\"minimum\"] = [list([f\"{ASSUMPTION_SIGNATURE}({a})\" for a in muc]) for muc in minimum]\n",
    "\n",
    "    f.write(str(results).replace(\"'\", '\"'))\n",
    "\n",
    "with open(f\"{assumption_dir}/README.md\", \"w\") as f:\n",
    "    f.write(f\"# Random MUC Benchmarks [{n_assumptions} Assumptions]\\n\\n\")\n",
    "    for s, subdir in enumerate(os.walk(assumption_dir)):\n",
    "        if subdir[0] != assumption_dir:\n",
    "            subdir_mucs = int(subdir[0].split(\"/\")[-1].replace(\"_mucs\", \"\"))\n",
    "            f.write(f\"## {s} : {subdir_mucs} MUCs\\n\\n\")\n",
    "            f.write(f\"![]({subdir[0].split('/')[-1]}/visualization.jpeg)\\n\\n\")"
   ],
   "metadata": {
    "collapsed": false
   }
  },
  {
   "cell_type": "code",
   "execution_count": 27,
   "outputs": [],
   "source": [],
   "metadata": {
    "collapsed": false
   }
  },
  {
   "cell_type": "code",
   "execution_count": null,
   "outputs": [],
   "source": [],
   "metadata": {
    "collapsed": false
   }
  }
 ],
 "metadata": {
  "kernelspec": {
   "display_name": "Python 3",
   "language": "python",
   "name": "python3"
  },
  "language_info": {
   "codemirror_mode": {
    "name": "ipython",
    "version": 2
   },
   "file_extension": ".py",
   "mimetype": "text/x-python",
   "name": "python",
   "nbconvert_exporter": "python",
   "pygments_lexer": "ipython2",
   "version": "2.7.6"
  }
 },
 "nbformat": 4,
 "nbformat_minor": 0
}
